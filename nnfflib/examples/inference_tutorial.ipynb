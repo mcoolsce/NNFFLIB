{
 "cells": [
  {
   "cell_type": "markdown",
   "metadata": {},
   "source": [
    "# NNFFLIB Inference Tutorial\n",
    "\n",
    "In this tutorial, we will use a pretrained NNFFLIB model to compute certain properties and perform MD simulations. We will start from a pretrained model of ethanal. The model is stored at the location `models/ethanal`. That model can be loaded as follows:"
   ]
  },
  {
   "cell_type": "code",
   "execution_count": null,
   "metadata": {},
   "outputs": [],
   "source": [
    "import os\n",
    "os.environ['TF_CPP_MIN_LOG_LEVEL'] = '3'\n",
    "\n",
    "import numpy as np\n",
    "import tensorflow as tf"
   ]
  },
  {
   "cell_type": "code",
   "execution_count": null,
   "metadata": {},
   "outputs": [],
   "source": [
    "from nnfflib.l1mlp import L1MLP"
   ]
  },
  {
   "cell_type": "code",
   "execution_count": null,
   "metadata": {},
   "outputs": [],
   "source": [
    "model = L1MLP.from_restore_file('models/ethanal', float_type = 64, xla = False)"
   ]
  },
  {
   "cell_type": "markdown",
   "metadata": {},
   "source": [
    "One can ignore the warnings about checkpointed values that are not bound. The arguments to load the models were explained in the notebook to train an MLP. Here, it is important to stress that one can change the precision of the model, i.e. using float32 or float64. If one wants to use NNFFLIB to perform geometry optimizations, float64 is required. Otherwise, one can use float32 without any issues."
   ]
  },
  {
   "cell_type": "markdown",
   "metadata": {},
   "source": [
    "## Validating xyz files\n",
    "\n",
    "As a first example, we will use NNFFLIB to compute energies and forces for a single configuration. First, we will load the first configuration from the validation set:"
   ]
  },
  {
   "cell_type": "code",
   "execution_count": null,
   "metadata": {},
   "outputs": [],
   "source": [
    "from nnfflib.help_functions import load_xyz\n",
    "for data in load_xyz('data/validation.xyz'):\n",
    "    energy = data['energy']\n",
    "    numbers = data['Z']\n",
    "    positions = data['pos']\n",
    "    forces = data['force']\n",
    "    break"
   ]
  },
  {
   "cell_type": "markdown",
   "metadata": {},
   "source": [
    "Next, we will compute the MLP predictions"
   ]
  },
  {
   "cell_type": "code",
   "execution_count": null,
   "metadata": {},
   "outputs": [],
   "source": [
    "output = model.compute(positions, numbers, rvec = np.eye(3) * 100, list_of_properties = ['energy', 'forces'])\n",
    "print(output)"
   ]
  },
  {
   "cell_type": "markdown",
   "metadata": {},
   "source": [
    "By specifying the `list_of_properties` argument, one can choose what kind of properties that NNFFLIB will compute. If stresses are required, one should add `'stress'` to compute the stresses in GPa. For this specific configuration the energy and force MAE errors are:"
   ]
  },
  {
   "cell_type": "code",
   "execution_count": null,
   "metadata": {},
   "outputs": [],
   "source": [
    "def MAE(x, y):\n",
    "    return np.mean(np.abs(x - y))\n",
    "print('MAE energy: ', MAE(energy, output['energy']), ' eV')\n",
    "print('MAE forces: ', MAE(forces, output['forces']), ' eV/A')"
   ]
  },
  {
   "cell_type": "markdown",
   "metadata": {},
   "source": [
    "## Molecular dynamics simulation\n",
    "\n",
    "Molecular dynamics simulations with the NNFFLIB can be done with [Yaff](https://github.com/molmod/yaff). Basically, NNFFLIB provides a Yaff wrapper around the `model.compute()` function (see above). It is also possible to perform MD simulations with other codes after writing your own wrapper around that function. Here, in Yaff, an NVT simulation can be performed as follows:"
   ]
  },
  {
   "cell_type": "code",
   "execution_count": null,
   "metadata": {},
   "outputs": [],
   "source": [
    "from yaff import *\n",
    "from nnfflib.md import NVT\n",
    "system = System(numbers, positions * angstrom)\n",
    "NVT(system, model, steps = 1000, screenprint = 100, nprint = 25, dt = 0.5, temp = 300, name = 'md_run1')"
   ]
  },
  {
   "cell_type": "markdown",
   "metadata": {},
   "source": [
    "The code above should have performed an NVT simulation for `steps=1000` steps, with a timestep of `dt` fs at a temperature of `temp`. It will write the positions and centers every `nprint` steps in an extended xyz file at the location `name`. Every `screenprint` steps, progress will be written to the screen."
   ]
  },
  {
   "cell_type": "markdown",
   "metadata": {},
   "source": [
    "## Computation of the Hessian matrix\n",
    "\n",
    "In this section, we will compute the Hessian matrix with NNFFLIB, which can be used for further processing. First, we have to compute the equilibrium geometry. This should take approximately 30 optimization steps. Only after the optimization, the Hessian will be positive definite."
   ]
  },
  {
   "cell_type": "code",
   "execution_count": null,
   "metadata": {},
   "outputs": [],
   "source": [
    "from nnfflib.md import Optimize\n",
    "positions, rvec = Optimize(model, positions, numbers, rvec=np.eye(3)*100, log='opt.xyz', fullcell=False)"
   ]
  },
  {
   "cell_type": "markdown",
   "metadata": {},
   "source": [
    "With the `fullcell` argument one can specify whether or not also optimize the energy with respect to the full cell matrix. Next, one should compute the full extended Hessian (this should take a few seconds on a GPU):"
   ]
  },
  {
   "cell_type": "code",
   "execution_count": null,
   "metadata": {},
   "outputs": [],
   "source": [
    "full_hessian = model.compute_hessian(positions, numbers, rvec = np.eye(3) * 100, include_rvec = False)\n",
    "print(full_hessian.shape)"
   ]
  },
  {
   "cell_type": "markdown",
   "metadata": {},
   "source": [
    "For a system with N atoms, the Hessian matrix has a shape of 3N by 3N. If `include_rvec` is `True`, an extended Hessian is computed with the shape 3N+9 by 3N+9 since all 9 cell degrees of freedom are included."
   ]
  },
  {
   "cell_type": "code",
   "execution_count": null,
   "metadata": {},
   "outputs": [],
   "source": [
    "print(np.linalg.eigh(full_hessian)[0])"
   ]
  },
  {
   "cell_type": "markdown",
   "metadata": {},
   "source": [
    "As a check, we have computed all the eigenvalues of the Hessian. Only the first 6 are (almost) zero, which correspond to the translational and rotational degrees of freedom in the system."
   ]
  }
 ],
 "metadata": {
  "kernelspec": {
   "display_name": "NNFF",
   "language": "python",
   "name": "nnff"
  },
  "language_info": {
   "codemirror_mode": {
    "name": "ipython",
    "version": 3
   },
   "file_extension": ".py",
   "mimetype": "text/x-python",
   "name": "python",
   "nbconvert_exporter": "python",
   "pygments_lexer": "ipython3",
   "version": "3.8.10"
  }
 },
 "nbformat": 4,
 "nbformat_minor": 2
}
